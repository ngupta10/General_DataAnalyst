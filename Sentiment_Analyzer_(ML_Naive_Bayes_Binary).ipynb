{
  "nbformat": 4,
  "nbformat_minor": 0,
  "metadata": {
    "colab": {
      "name": "Sentiment Analyzer (ML - Naive Bayes - Binary).ipynb",
      "provenance": [],
      "collapsed_sections": [],
      "include_colab_link": true
    },
    "kernelspec": {
      "name": "python3",
      "display_name": "Python 3"
    }
  },
  "cells": [
    {
      "cell_type": "markdown",
      "metadata": {
        "id": "view-in-github",
        "colab_type": "text"
      },
      "source": [
        "<a href=\"https://colab.research.google.com/github/ngupta10/General_DataAnalyst/blob/master/Sentiment_Analyzer_(ML_Naive_Bayes_Binary).ipynb\" target=\"_parent\"><img src=\"https://colab.research.google.com/assets/colab-badge.svg\" alt=\"Open In Colab\"/></a>"
      ]
    },
    {
      "cell_type": "markdown",
      "metadata": {
        "id": "gaUJRj88LYC3",
        "colab_type": "text"
      },
      "source": [
        "https://itnext.io/how-to-create-a-sentiment-analyzer-with-text-classification-python-ai-f3a5d10922c5"
      ]
    },
    {
      "cell_type": "code",
      "metadata": {
        "id": "j3tTsWyMLPjS",
        "colab_type": "code",
        "colab": {}
      },
      "source": [
        "##Importing all libraries\n",
        "\n",
        "from sklearn.feature_extraction.text import CountVectorizer\n",
        "from sklearn.naive_bayes import BernoulliNB\n",
        "from sklearn.metrics import confusion_matrix\n",
        "import pandas\n",
        "import numpy as np\n",
        "import itertools\n",
        "import matplotlib.pyplot as plt"
      ],
      "execution_count": 0,
      "outputs": []
    },
    {
      "cell_type": "code",
      "metadata": {
        "id": "GCCrqYXSLiLW",
        "colab_type": "code",
        "colab": {}
      },
      "source": [
        "##open all data sets and merge them as one\n",
        "\n",
        "def get_all_data():\n",
        "    root = \"/Data/\"\n",
        "\n",
        "    with open(root + \"imdb_labelled.txt\", \"r\") as text_file:\n",
        "        data = text_file.read().split('\\n')\n",
        "         \n",
        "    with open(root + \"amazon_cells_labelled.txt\", \"r\") as text_file:\n",
        "        data += text_file.read().split('\\n')\n",
        "\n",
        "    with open(root + \"yelp_labelled.txt\", \"r\") as text_file:\n",
        "        data += text_file.read().split('\\n')\n",
        "\n",
        "    return data"
      ],
      "execution_count": 0,
      "outputs": []
    },
    {
      "cell_type": "code",
      "metadata": {
        "id": "r4Qc1my6NBE2",
        "colab_type": "code",
        "colab": {}
      },
      "source": [
        "## Data Pre-processing\n",
        "\n",
        "def preprocessing_data(data):\n",
        "    processing_data = []\n",
        "    for single_data in data:\n",
        "        if len(single_data.split(\"\\t\")) == 2 and single_data.split(\"\\t\")[1] != \"\":\n",
        "            processing_data.append(single_data.split(\"\\t\"))\n",
        "\n",
        "    return processing_data\n"
      ],
      "execution_count": 0,
      "outputs": []
    },
    {
      "cell_type": "markdown",
      "metadata": {
        "id": "pNG7rD8uNbrz",
        "colab_type": "text"
      },
      "source": [
        "The last task to finish the first step is to split the data set into two different sets, one for each of the next process: training and evaluation.\n",
        "We need to use a ratio to split the data out, usually it can variate between 70–80% for training and 30–20% for evaluation, but in this particular case, we’ll use 75% for training, so, let’s split it:"
      ]
    },
    {
      "cell_type": "code",
      "metadata": {
        "id": "rXtx55ThNa3z",
        "colab_type": "code",
        "colab": {}
      },
      "source": [
        "## Split data into training and evalyation set\n",
        "\n",
        "def split_data(data):\n",
        "    total = len(data)\n",
        "    training_ratio = 0.75\n",
        "    training_data = []\n",
        "    evaluation_data = []\n",
        "\n",
        "    for indice in range(0, total):\n",
        "        if indice < total * training_ratio:\n",
        "            training_data.append(data[indice])\n",
        "        else:\n",
        "            evaluation_data.append(data[indice])\n",
        "\n",
        "    return training_data, evaluation_data"
      ],
      "execution_count": 0,
      "outputs": []
    },
    {
      "cell_type": "code",
      "metadata": {
        "id": "zBNfbd7-N1jM",
        "colab_type": "code",
        "colab": {}
      },
      "source": [
        "## Complete Pre-processing of data\n",
        "\n",
        "def preprocessing_step():\n",
        "    data = get_all_data()\n",
        "    processing_data = preprocessing_data(data)\n",
        "\n",
        "    return split_data(processing_data)"
      ],
      "execution_count": 0,
      "outputs": []
    },
    {
      "cell_type": "code",
      "metadata": {
        "id": "VRj2EQ3lOKoF",
        "colab_type": "code",
        "colab": {}
      },
      "source": [
        "## Get Pre-processes data\n",
        "\n",
        "\n",
        "def preprocessing_step():\n",
        "    data = get_all_data()\n",
        "    processing_data = preprocessing_data(data)\n",
        "\n",
        "    return split_data(processing_data)"
      ],
      "execution_count": 0,
      "outputs": []
    },
    {
      "cell_type": "markdown",
      "metadata": {
        "id": "Fn8MzIcTQ7u5",
        "colab_type": "text"
      },
      "source": [
        "split our training data set in two different lists, one for the sentences and other for the results.\n",
        "Then, let’s vectorize the sentence by using fit_transform function and finally let’s return the result of a BernoulliNB().fit function call."
      ]
    },
    {
      "cell_type": "code",
      "metadata": {
        "id": "krHDJ_yxPhe-",
        "colab_type": "code",
        "colab": {}
      },
      "source": [
        "def training_step(data, vectorizer):\n",
        "    training_text = [data[0] for data in data]\n",
        "    training_result = [data[1] for data in data]\n",
        "\n",
        "    training_text = vectorizer.fit_transform(training_text)\n",
        "\n",
        "    return BernoulliNB().fit(training_text, training_result)"
      ],
      "execution_count": 0,
      "outputs": []
    },
    {
      "cell_type": "code",
      "metadata": {
        "id": "7hN2Rvr1RaVg",
        "colab_type": "code",
        "colab": {}
      },
      "source": [
        "training_data, evaluation_data = preprocessing_step()\n",
        "vectorizer = CountVectorizer(binary = 'true')\n",
        "classifier = training_step(training_data, vectorizer)\n",
        "#result = classifier.predict(vectorizer.transform([\"I love this movie!\"]))\n",
        "\n",
        "\n",
        "def analyse_text(classifier, vectorizer, text):\n",
        "    return text, classifier.predict(vectorizer.transform([text]))\n",
        "  \n",
        "def print_result(result):\n",
        "    text, analysis_result = result\n",
        "    print_text = \"Positive\" if analysis_result[0] == '1' else \"Negative\"\n",
        "    print(text, \":\", print_text)"
      ],
      "execution_count": 0,
      "outputs": []
    },
    {
      "cell_type": "code",
      "metadata": {
        "id": "eqHCKk4TTxup",
        "colab_type": "code",
        "outputId": "681081e3-b1f8-4954-d7ab-e670f118ae01",
        "colab": {
          "base_uri": "https://localhost:8080/",
          "height": 68
        }
      },
      "source": [
        "## Results\n",
        "\n",
        "print_result( analyse_text(classifier, vectorizer,\"all good thanks\"))\n",
        "print_result( analyse_text(classifier, vectorizer,\"close the account\"))\n",
        "print_result( analyse_text(classifier, vectorizer,\"Stop the payments\"))\n"
      ],
      "execution_count": 0,
      "outputs": [
        {
          "output_type": "stream",
          "text": [
            "all good thanks : Positive\n",
            "close the account : Negative\n",
            "Stop the payments : Negative\n"
          ],
          "name": "stdout"
        }
      ]
    },
    {
      "cell_type": "code",
      "metadata": {
        "id": "kUOlVeDLURCW",
        "colab_type": "code",
        "outputId": "63af669a-8b8d-4c3f-81bd-81e31d359b96",
        "colab": {
          "base_uri": "https://localhost:8080/",
          "height": 34
        }
      },
      "source": [
        "## Evaluation\n",
        "\n",
        "def simple_evaluation(evaluation_data):\n",
        "    evaluation_text     = [evaluation_data[0] for evaluation_data in evaluation_data]\n",
        "    evaluation_result   = [evaluation_data[1] for evaluation_data in evaluation_data]\n",
        "\n",
        "    total = len(evaluation_text)\n",
        "    corrects = 0\n",
        "    for index in range(0, total):\n",
        "        analysis_result = analyse_text(classifier, vectorizer, evaluation_text[index])\n",
        "        text, result = analysis_result\n",
        "        corrects += 1 if result[0] == evaluation_result[index] else 0\n",
        "\n",
        "    return corrects * 100 / total\n",
        "\n",
        "simple_evaluation(evaluation_data)"
      ],
      "execution_count": 0,
      "outputs": [
        {
          "output_type": "execute_result",
          "data": {
            "text/plain": [
              "82.0"
            ]
          },
          "metadata": {
            "tags": []
          },
          "execution_count": 24
        }
      ]
    },
    {
      "cell_type": "code",
      "metadata": {
        "id": "jfjokAqfUjyy",
        "colab_type": "code",
        "outputId": "4a4a2956-35d4-461f-c40f-e86cb45f4765",
        "colab": {
          "base_uri": "https://localhost:8080/",
          "height": 297
        }
      },
      "source": [
        "## Confusion Matrix\n",
        "\n",
        "def create_confusion_matrix(evaluation_data):\n",
        "    evaluation_text     = [evaluation_data[0] for evaluation_data in evaluation_data]\n",
        "    actual_result       = [evaluation_data[1] for evaluation_data in evaluation_data]\n",
        "    prediction_result   = []\n",
        "    for text in evaluation_text:\n",
        "        analysis_result = analyse_text(classifier, vectorizer, text)\n",
        "        prediction_result.append(analysis_result[1][0])\n",
        "    \n",
        "    matrix = confusion_matrix(actual_result, prediction_result)\n",
        "    return matrix\n",
        "\n",
        "confusion_matrix_result = create_confusion_matrix(evaluation_data)\n",
        "\n",
        "pandas.DataFrame(\n",
        "    confusion_matrix_result, \n",
        "    columns=[\"Negatives\", \"Positives\"],\n",
        "    index=[\"Negatives\", \"Positives\"])\n",
        "\n",
        "classes = [\"Negatives\", \"Positives\"]\n",
        "\n",
        "plt.figure()\n",
        "plt.imshow(confusion_matrix_result, interpolation='nearest', cmap=plt.cm.Blues)\n",
        "plt.title(\"Confusion Matrix - Sentiment Analysis\")\n",
        "plt.colorbar()\n",
        "tick_marks = np.arange(len(classes))\n",
        "plt.xticks(tick_marks, classes, rotation=45)\n",
        "plt.yticks(tick_marks, classes)\n",
        "\n",
        "text_format = 'd'\n",
        "thresh = confusion_matrix_result.max() / 2.\n",
        "for row, column in itertools.product(range(confusion_matrix_result.shape[0]), range(confusion_matrix_result.shape[1])):\n",
        "    plt.text(column, row, format(confusion_matrix_result[row, column], text_format),\n",
        "             horizontalalignment=\"center\",\n",
        "             color=\"white\" if confusion_matrix_result[row, column] > thresh else \"black\")\n",
        "\n",
        "plt.ylabel('True label')\n",
        "plt.xlabel('Predicted label')\n",
        "plt.tight_layout()\n",
        "\n",
        "plt.show()"
      ],
      "execution_count": 0,
      "outputs": [
        {
          "output_type": "display_data",
          "data": {
            "image/png": "[encoded data removed]",
            "text/plain": [
              "<Figure size 432x288 with 2 Axes>"
            ]
          },
          "metadata": {
            "tags": []
          }
        }
      ]
    },
    {
      "cell_type": "markdown",
      "metadata": {
        "id": "r1nrwWXaV31J",
        "colab_type": "text"
      },
      "source": [
        "there are a total of 386 negatives sentences and a total of 364 of negatives, totalizing 750 sentences, which is 25% of the 3000 total sentences.\n",
        "Of this 386 negatives sentences 322 were classified correctly while 64(about 16.5%) were classified as positive sentence, creating some false positives. On other hand there’s 293 positives sentences classified correctly and 71(about 24%) false negatives."
      ]
    }
  ]
}