{
  "nbformat": 4,
  "nbformat_minor": 0,
  "metadata": {
    "colab": {
      "name": "Spacy - Sentiment Analysis.ipynb",
      "provenance": [],
      "collapsed_sections": [],
      "include_colab_link": true
    },
    "kernelspec": {
      "name": "python3",
      "display_name": "Python 3"
    }
  },
  "cells": [
    {
      "cell_type": "markdown",
      "metadata": {
        "id": "view-in-github",
        "colab_type": "text"
      },
      "source": [
        "<a href=\"https://colab.research.google.com/github/ngupta10/General_DataAnalyst/blob/master/Spacy_Sentiment_Analysis.ipynb\" target=\"_parent\"><img src=\"https://colab.research.google.com/assets/colab-badge.svg\" alt=\"Open In Colab\"/></a>"
      ]
    },
    {
      "cell_type": "markdown",
      "metadata": {
        "id": "7KSLC5JS8S2o",
        "colab_type": "text"
      },
      "source": [
        "https://stackabuse.com/python-for-nlp-working-with-text-and-pdf-files/\n",
        "\n",
        "https://realpython.com/natural-language-processing-spacy-python/\n",
        "\n",
        "\n",
        "https://spacy.io/models\n"
      ]
    },
    {
      "cell_type": "markdown",
      "metadata": {
        "id": "PrMGvG22Fl8G",
        "colab_type": "text"
      },
      "source": [
        "# Entity Detection"
      ]
    },
    {
      "cell_type": "code",
      "metadata": {
        "id": "CvQv_NLc8O47",
        "colab_type": "code",
        "outputId": "64f892fe-fba2-4099-ed27-55da7ab6acfa",
        "colab": {
          "base_uri": "https://localhost:8080/",
          "height": 131
        }
      },
      "source": [
        "## Installing dependencies\n",
        "\n",
        "pip install -U spacy"
      ],
      "execution_count": 0,
      "outputs": [
        {
          "output_type": "error",
          "ename": "SyntaxError",
          "evalue": "ignored",
          "traceback": [
            "\u001b[0;36m  File \u001b[0;32m\"<ipython-input-10-e9544651ddc6>\"\u001b[0;36m, line \u001b[0;32m2\u001b[0m\n\u001b[0;31m    pip install -U spacy\u001b[0m\n\u001b[0m              ^\u001b[0m\n\u001b[0;31mSyntaxError\u001b[0m\u001b[0;31m:\u001b[0m invalid syntax\n"
          ]
        }
      ]
    },
    {
      "cell_type": "code",
      "metadata": {
        "id": "dcyRfcxBCQUt",
        "colab_type": "code",
        "colab": {}
      },
      "source": [
        "## Shell command to download the model\n",
        "\n",
        "!python -m spacy download en_core_web_sm"
      ],
      "execution_count": 0,
      "outputs": []
    },
    {
      "cell_type": "code",
      "metadata": {
        "id": "vO3WgLye-0tx",
        "colab_type": "code",
        "colab": {}
      },
      "source": [
        "# Download Language model\n",
        "\n",
        "import spacy\n",
        "from spacy import displacy\n",
        "sp = spacy.load('en_core_web_sm')"
      ],
      "execution_count": 0,
      "outputs": []
    },
    {
      "cell_type": "code",
      "metadata": {
        "id": "pV-24jN0DHIF",
        "colab_type": "code",
        "colab": {}
      },
      "source": [
        "## Tokenization\n",
        "\n",
        "##in the above sentence, we have a dash in the word \"non-candian\" and in the email address. Let's see how spaCy will tokenize this:\n",
        "\n",
        "\n",
        "sentence = sp(u\"Hello, I have a  non-canadian, email me the relevant documents at abc-xyz@gmail.com\")\n",
        "for word in sentence:\n",
        "    print(word.text)"
      ],
      "execution_count": 0,
      "outputs": []
    },
    {
      "cell_type": "code",
      "metadata": {
        "id": "iWaEnOxkDxV_",
        "colab_type": "code",
        "outputId": "4723f997-11bc-497a-bc06-6653d7de539d",
        "colab": {
          "base_uri": "https://localhost:8080/",
          "height": 52
        }
      },
      "source": [
        "##Detecting Entities\n",
        "\n",
        "\n",
        "##In addition to tokenizing the documents to words, you can also find if the word is an entity such as a company, place, building, currency, institution, etc.\n",
        "\n",
        "\n",
        "sentence = sp(u'Royal Bank of Canada is looking to start a new credit card service at $35 per month in partnership with Afron')  \n",
        "\n",
        "#for entity in sentence.ents:\n",
        "#    print(entity.text + ' - ' + entity.label_ + ' - ' + str(spacy.explain(entity.label_)))\n",
        "\n",
        "displacy.render(sentence, style='ent', jupyter=True)"
      ],
      "execution_count": 0,
      "outputs": [
        {
          "output_type": "display_data",
          "data": {
            "text/html": [
              "<div class=\"entities\" style=\"line-height: 2.5; direction: ltr\">\n",
              "<mark class=\"entity\" style=\"background: #7aecec; padding: 0.45em 0.6em; margin: 0 0.25em; line-height: 1; border-radius: 0.35em; box-decoration-break: clone; -webkit-box-decoration-break: clone\">\n",
              "    Royal Bank of Canada\n",
              "    <span style=\"font-size: 0.8em; font-weight: bold; line-height: 1; border-radius: 0.35em; text-transform: uppercase; vertical-align: middle; margin-left: 0.5rem\">ORG</span>\n",
              "</mark>\n",
              " is looking to start a new credit card service at $\n",
              "<mark class=\"entity\" style=\"background: #e4e7d2; padding: 0.45em 0.6em; margin: 0 0.25em; line-height: 1; border-radius: 0.35em; box-decoration-break: clone; -webkit-box-decoration-break: clone\">\n",
              "    35\n",
              "    <span style=\"font-size: 0.8em; font-weight: bold; line-height: 1; border-radius: 0.35em; text-transform: uppercase; vertical-align: middle; margin-left: 0.5rem\">MONEY</span>\n",
              "</mark>\n",
              " per month in partnership with \n",
              "<mark class=\"entity\" style=\"background: #7aecec; padding: 0.45em 0.6em; margin: 0 0.25em; line-height: 1; border-radius: 0.35em; box-decoration-break: clone; -webkit-box-decoration-break: clone\">\n",
              "    Afron\n",
              "    <span style=\"font-size: 0.8em; font-weight: bold; line-height: 1; border-radius: 0.35em; text-transform: uppercase; vertical-align: middle; margin-left: 0.5rem\">ORG</span>\n",
              "</mark>\n",
              "</div>"
            ],
            "text/plain": [
              "<IPython.core.display.HTML object>"
            ]
          },
          "metadata": {
            "tags": []
          }
        }
      ]
    },
    {
      "cell_type": "code",
      "metadata": {
        "id": "Mk5rVpgcs78j",
        "colab_type": "code",
        "outputId": "8258f247-824c-4088-fcaf-92ca77bcf231",
        "colab": {
          "base_uri": "https://localhost:8080/",
          "height": 52
        }
      },
      "source": [
        "sentence = sp(u'Maitri Berry is working at RBC at $35 /hour')  \n",
        "\n",
        "#for entity in sentence.ents:\n",
        "#    print(entity.text + ' - ' + entity.label_ + ' - ' + str(spacy.explain(entity.label_)))\n",
        "\n",
        "displacy.render(sentence, style='ent', jupyter=True)"
      ],
      "execution_count": 0,
      "outputs": [
        {
          "output_type": "display_data",
          "data": {
            "text/html": [
              "<div class=\"entities\" style=\"line-height: 2.5; direction: ltr\">\n",
              "<mark class=\"entity\" style=\"background: #aa9cfc; padding: 0.45em 0.6em; margin: 0 0.25em; line-height: 1; border-radius: 0.35em; box-decoration-break: clone; -webkit-box-decoration-break: clone\">\n",
              "    Maitri Berry\n",
              "    <span style=\"font-size: 0.8em; font-weight: bold; line-height: 1; border-radius: 0.35em; text-transform: uppercase; vertical-align: middle; margin-left: 0.5rem\">PERSON</span>\n",
              "</mark>\n",
              " is working at \n",
              "<mark class=\"entity\" style=\"background: #7aecec; padding: 0.45em 0.6em; margin: 0 0.25em; line-height: 1; border-radius: 0.35em; box-decoration-break: clone; -webkit-box-decoration-break: clone\">\n",
              "    RBC\n",
              "    <span style=\"font-size: 0.8em; font-weight: bold; line-height: 1; border-radius: 0.35em; text-transform: uppercase; vertical-align: middle; margin-left: 0.5rem\">ORG</span>\n",
              "</mark>\n",
              " at $\n",
              "<mark class=\"entity\" style=\"background: #e4e7d2; padding: 0.45em 0.6em; margin: 0 0.25em; line-height: 1; border-radius: 0.35em; box-decoration-break: clone; -webkit-box-decoration-break: clone\">\n",
              "    35\n",
              "    <span style=\"font-size: 0.8em; font-weight: bold; line-height: 1; border-radius: 0.35em; text-transform: uppercase; vertical-align: middle; margin-left: 0.5rem\">MONEY</span>\n",
              "</mark>\n",
              " /hour</div>"
            ],
            "text/plain": [
              "<IPython.core.display.HTML object>"
            ]
          },
          "metadata": {
            "tags": []
          }
        }
      ]
    },
    {
      "cell_type": "code",
      "metadata": {
        "id": "1231los1KyWC",
        "colab_type": "code",
        "colab": {}
      },
      "source": [
        "## Addidng our own entities\n",
        "\n",
        "from spacy.tokens import Span\n",
        "\n",
        "ORG = sentence.vocab.strings[u'ORG']\n",
        "new_entity = Span(sentence, 21, 22, label=ORG)\n",
        "sentence.ents = list(sentence.ents) + [new_entity]\n",
        "\n",
        "\n"
      ],
      "execution_count": 0,
      "outputs": []
    },
    {
      "cell_type": "code",
      "metadata": {
        "id": "Pc-TEIUuLssR",
        "colab_type": "code",
        "outputId": "b5a46c94-22b7-4c70-fd61-1d3408b12fdb",
        "colab": {
          "base_uri": "https://localhost:8080/",
          "height": 52
        }
      },
      "source": [
        "displacy.render(sentence, style='ent', jupyter=True)"
      ],
      "execution_count": 0,
      "outputs": [
        {
          "output_type": "display_data",
          "data": {
            "text/html": [
              "<div class=\"entities\" style=\"line-height: 2.5; direction: ltr\">\n",
              "<mark class=\"entity\" style=\"background: #7aecec; padding: 0.45em 0.6em; margin: 0 0.25em; line-height: 1; border-radius: 0.35em;\">\n",
              "    Royal Bank of Canada\n",
              "    <span style=\"font-size: 0.8em; font-weight: bold; line-height: 1; border-radius: 0.35em; text-transform: uppercase; vertical-align: middle; margin-left: 0.5rem\">ORG</span>\n",
              "</mark>\n",
              " is looking to start a new credit card service at $\n",
              "<mark class=\"entity\" style=\"background: #e4e7d2; padding: 0.45em 0.6em; margin: 0 0.25em; line-height: 1; border-radius: 0.35em;\">\n",
              "    35\n",
              "    <span style=\"font-size: 0.8em; font-weight: bold; line-height: 1; border-radius: 0.35em; text-transform: uppercase; vertical-align: middle; margin-left: 0.5rem\">MONEY</span>\n",
              "</mark>\n",
              " per month in partnership with \n",
              "<mark class=\"entity\" style=\"background: #7aecec; padding: 0.45em 0.6em; margin: 0 0.25em; line-height: 1; border-radius: 0.35em;\">\n",
              "    Afron\n",
              "    <span style=\"font-size: 0.8em; font-weight: bold; line-height: 1; border-radius: 0.35em; text-transform: uppercase; vertical-align: middle; margin-left: 0.5rem\">ORG</span>\n",
              "</mark>\n",
              "</div>"
            ],
            "text/plain": [
              "<IPython.core.display.HTML object>"
            ]
          },
          "metadata": {
            "tags": []
          }
        }
      ]
    },
    {
      "cell_type": "markdown",
      "metadata": {
        "id": "FiWvDF9GFbya",
        "colab_type": "text"
      },
      "source": [
        "# Rule Based Matching"
      ]
    },
    {
      "cell_type": "code",
      "metadata": {
        "id": "_oKVC9IdFhDv",
        "colab_type": "code",
        "colab": {}
      },
      "source": [
        "nlp = spacy.load('en_core_web_sm')\n",
        "\n",
        "from spacy.matcher import Matcher\n",
        "m_tool = Matcher(nlp.vocab)"
      ],
      "execution_count": 0,
      "outputs": []
    },
    {
      "cell_type": "code",
      "metadata": {
        "id": "Tz3t8jeHFtsF",
        "colab_type": "code",
        "colab": {}
      },
      "source": [
        "p1 = [{'LOWER': 'loa on file'}]\n",
        "p2 = [{'LOWER': 'loa'}, {'IS_PUNCT': True}, {'LOWER': 'on'}, {'IS_PUNCT': True}, {'LOWER': 'file'}]\n",
        "p3 = [{'LOWER': 'loa'}, {'LOWER': 'on'}, {'LOWER': 'file'}]\n",
        "p4 =  [{'LOWER': 'loa'}, {'LOWER': 'onfile'}]"
      ],
      "execution_count": 0,
      "outputs": []
    },
    {
      "cell_type": "markdown",
      "metadata": {
        "id": "S60ccrUjGJsl",
        "colab_type": "text"
      },
      "source": [
        "In the above script,\n",
        "\n",
        "p1 looks for the phrase \"loa on file\"\n",
        "\n",
        "p2 looks for the phrase \"loa-on-file\"\n",
        "\n",
        "p3 tries to search for \"loa on file\"\n",
        "\n",
        "p4 looks for the phrase \"loa onfile\""
      ]
    },
    {
      "cell_type": "code",
      "metadata": {
        "id": "a9MYreQQGciK",
        "colab_type": "code",
        "colab": {}
      },
      "source": [
        "m_tool.add('LOA', None, p1, p2, p3, p4)"
      ],
      "execution_count": 0,
      "outputs": []
    },
    {
      "cell_type": "code",
      "metadata": {
        "id": "qp5okOrmGl2x",
        "colab_type": "code",
        "outputId": "9869d660-45ed-4af5-c9c2-9617043f8fc8",
        "colab": {
          "base_uri": "https://localhost:8080/",
          "height": 34
        }
      },
      "source": [
        "sentence = nlp(u'Client has request an account change. LOA on File')\n",
        "\n",
        "for match_id, start, end in phrase_matches:\n",
        "    string_id = nlp.vocab.strings[match_id]  \n",
        "    span = sentence[start:end]                   \n",
        "    print(match_id, string_id, start, end, span.text)"
      ],
      "execution_count": 0,
      "outputs": [
        {
          "output_type": "stream",
          "text": [
            "15255467646701850446 LOA 7 10 LOA on File\n"
          ],
          "name": "stdout"
        }
      ]
    },
    {
      "cell_type": "markdown",
      "metadata": {
        "id": "JnppHV9xHwQN",
        "colab_type": "text"
      },
      "source": [
        "# Phrase Matching"
      ]
    },
    {
      "cell_type": "code",
      "metadata": {
        "id": "xgMHvgKNH0U7",
        "colab_type": "code",
        "colab": {}
      },
      "source": [
        "import bs4 as bs  \n",
        "import urllib.request  \n",
        "import re  \n",
        "import nltk\n",
        "\n",
        "scrapped_data = urllib.request.urlopen('https://en.wikipedia.org/wiki/Artificial_intelligence')  \n",
        "article = scrapped_data .read()\n",
        "\n",
        "parsed_article = bs.BeautifulSoup(article,'lxml')\n",
        "\n",
        "paragraphs = parsed_article.find_all('p')\n",
        "\n",
        "article_text = \"\"\n",
        "\n",
        "for p in paragraphs:  \n",
        "    article_text += p.text\n",
        "    \n",
        "    \n",
        "processed_article = article_text.lower()  \n",
        "processed_article = re.sub('[^a-zA-Z]', ' ', processed_article )  \n",
        "processed_article = re.sub(r'\\s+', ' ', processed_article)"
      ],
      "execution_count": 0,
      "outputs": []
    },
    {
      "cell_type": "code",
      "metadata": {
        "id": "L6agJol4IAY0",
        "colab_type": "code",
        "outputId": "1200c466-29cd-402c-8b66-55a329ba9a6f",
        "colab": {
          "base_uri": "https://localhost:8080/",
          "height": 442
        }
      },
      "source": [
        "from spacy.matcher import PhraseMatcher\n",
        "phrase_matcher = PhraseMatcher(nlp.vocab)\n",
        "\n",
        "phrases = ['machine learning', 'robots', 'intelligent agents']\n",
        "\n",
        "patterns = [nlp(text) for text in phrases]\n",
        "\n",
        "phrase_matcher.add('AI', None, *patterns)\n",
        "\n",
        "sentence = nlp (processed_article)\n",
        "\n",
        "matched_phrases = phrase_matcher(sentence)\n",
        "\n",
        "for match_id, start, end in matched_phrases:\n",
        "    string_id = nlp.vocab.strings[match_id]  \n",
        "    span = sentence[start:end]                   \n",
        "    print(match_id, string_id, start, end, span.text)"
      ],
      "execution_count": 0,
      "outputs": [
        {
          "output_type": "stream",
          "text": [
            "5530044837203964789 AI 35 37 intelligent agents\n",
            "5530044837203964789 AI 259 261 machine learning\n",
            "5530044837203964789 AI 548 549 robots\n",
            "5530044837203964789 AI 1165 1167 machine learning\n",
            "5530044837203964789 AI 1480 1482 intelligent agents\n",
            "5530044837203964789 AI 3134 3136 intelligent agents\n",
            "5530044837203964789 AI 3293 3295 machine learning\n",
            "5530044837203964789 AI 3833 3834 robots\n",
            "5530044837203964789 AI 5291 5292 robots\n",
            "5530044837203964789 AI 5368 5369 robots\n",
            "5530044837203964789 AI 6850 6852 machine learning\n",
            "5530044837203964789 AI 6862 6864 machine learning\n",
            "5530044837203964789 AI 7583 7585 machine learning\n",
            "5530044837203964789 AI 7722 7724 machine learning\n",
            "5530044837203964789 AI 8089 8091 machine learning\n",
            "5530044837203964789 AI 9621 9622 robots\n",
            "5530044837203964789 AI 9686 9687 robots\n",
            "5530044837203964789 AI 10138 10140 machine learning\n",
            "5530044837203964789 AI 10470 10472 machine learning\n",
            "5530044837203964789 AI 11627 11628 robots\n",
            "5530044837203964789 AI 12104 12105 robots\n",
            "5530044837203964789 AI 13118 13119 robots\n",
            "5530044837203964789 AI 13229 13230 robots\n",
            "5530044837203964789 AI 13350 13351 robots\n",
            "5530044837203964789 AI 13394 13395 robots\n"
          ],
          "name": "stdout"
        }
      ]
    }
  ]
}